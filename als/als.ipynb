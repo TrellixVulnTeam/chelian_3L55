{
 "cells": [
  {
   "cell_type": "code",
   "execution_count": 1,
   "metadata": {},
   "outputs": [],
   "source": [
    "import pandas as pd\n",
    "import scipy.sparse as sparse\n",
    "import numpy as np\n",
    "import random\n",
    "# import implicit\n",
    "from sklearn.preprocessing import MinMaxScaler\n",
    "from sklearn import metrics"
   ]
  },
  {
   "cell_type": "code",
   "execution_count": 2,
   "metadata": {},
   "outputs": [
    {
     "data": {
      "text/html": [
       "<div>\n",
       "<style scoped>\n",
       "    .dataframe tbody tr th:only-of-type {\n",
       "        vertical-align: middle;\n",
       "    }\n",
       "\n",
       "    .dataframe tbody tr th {\n",
       "        vertical-align: top;\n",
       "    }\n",
       "\n",
       "    .dataframe thead th {\n",
       "        text-align: right;\n",
       "    }\n",
       "</style>\n",
       "<table border=\"1\" class=\"dataframe\">\n",
       "  <thead>\n",
       "    <tr style=\"text-align: right;\">\n",
       "      <th></th>\n",
       "      <th>timestamp</th>\n",
       "      <th>eventType</th>\n",
       "      <th>contentId</th>\n",
       "      <th>authorPersonId</th>\n",
       "      <th>authorSessionId</th>\n",
       "      <th>contentType</th>\n",
       "      <th>url</th>\n",
       "      <th>title</th>\n",
       "      <th>text</th>\n",
       "      <th>lang</th>\n",
       "    </tr>\n",
       "  </thead>\n",
       "  <tbody>\n",
       "    <tr>\n",
       "      <th>0</th>\n",
       "      <td>1459192779</td>\n",
       "      <td>CONTENT REMOVED</td>\n",
       "      <td>-6451309518266745024</td>\n",
       "      <td>4340306774493623681</td>\n",
       "      <td>8940341205206233829</td>\n",
       "      <td>HTML</td>\n",
       "      <td>http://www.nytimes.com/2016/03/28/business/dea...</td>\n",
       "      <td>Ethereum, a Virtual Currency, Enables Transact...</td>\n",
       "      <td>All of this work is still very early. The firs...</td>\n",
       "      <td>en</td>\n",
       "    </tr>\n",
       "    <tr>\n",
       "      <th>1</th>\n",
       "      <td>1459193988</td>\n",
       "      <td>CONTENT SHARED</td>\n",
       "      <td>-4110354420726924665</td>\n",
       "      <td>4340306774493623681</td>\n",
       "      <td>8940341205206233829</td>\n",
       "      <td>HTML</td>\n",
       "      <td>http://www.nytimes.com/2016/03/28/business/dea...</td>\n",
       "      <td>Ethereum, a Virtual Currency, Enables Transact...</td>\n",
       "      <td>All of this work is still very early. The firs...</td>\n",
       "      <td>en</td>\n",
       "    </tr>\n",
       "    <tr>\n",
       "      <th>2</th>\n",
       "      <td>1459194146</td>\n",
       "      <td>CONTENT SHARED</td>\n",
       "      <td>-7292285110016212249</td>\n",
       "      <td>4340306774493623681</td>\n",
       "      <td>8940341205206233829</td>\n",
       "      <td>HTML</td>\n",
       "      <td>http://cointelegraph.com/news/bitcoin-future-w...</td>\n",
       "      <td>Bitcoin Future: When GBPcoin of Branson Wins O...</td>\n",
       "      <td>The alarm clock wakes me at 8:00 with stream o...</td>\n",
       "      <td>en</td>\n",
       "    </tr>\n",
       "    <tr>\n",
       "      <th>3</th>\n",
       "      <td>1459194474</td>\n",
       "      <td>CONTENT SHARED</td>\n",
       "      <td>-6151852268067518688</td>\n",
       "      <td>3891637997717104548</td>\n",
       "      <td>-1457532940883382585</td>\n",
       "      <td>HTML</td>\n",
       "      <td>https://cloudplatform.googleblog.com/2016/03/G...</td>\n",
       "      <td>Google Data Center 360° Tour</td>\n",
       "      <td>We're excited to share the Google Data Center ...</td>\n",
       "      <td>en</td>\n",
       "    </tr>\n",
       "    <tr>\n",
       "      <th>4</th>\n",
       "      <td>1459194497</td>\n",
       "      <td>CONTENT SHARED</td>\n",
       "      <td>2448026894306402386</td>\n",
       "      <td>4340306774493623681</td>\n",
       "      <td>8940341205206233829</td>\n",
       "      <td>HTML</td>\n",
       "      <td>https://bitcoinmagazine.com/articles/ibm-wants...</td>\n",
       "      <td>IBM Wants to \"Evolve the Internet\" With Blockc...</td>\n",
       "      <td>The Aite Group projects the blockchain market ...</td>\n",
       "      <td>en</td>\n",
       "    </tr>\n",
       "  </tbody>\n",
       "</table>\n",
       "</div>"
      ],
      "text/plain": [
       "    timestamp        eventType            contentId       authorPersonId  \\\n",
       "0  1459192779  CONTENT REMOVED -6451309518266745024  4340306774493623681   \n",
       "1  1459193988   CONTENT SHARED -4110354420726924665  4340306774493623681   \n",
       "2  1459194146   CONTENT SHARED -7292285110016212249  4340306774493623681   \n",
       "3  1459194474   CONTENT SHARED -6151852268067518688  3891637997717104548   \n",
       "4  1459194497   CONTENT SHARED  2448026894306402386  4340306774493623681   \n",
       "\n",
       "       authorSessionId contentType  \\\n",
       "0  8940341205206233829        HTML   \n",
       "1  8940341205206233829        HTML   \n",
       "2  8940341205206233829        HTML   \n",
       "3 -1457532940883382585        HTML   \n",
       "4  8940341205206233829        HTML   \n",
       "\n",
       "                                                 url  \\\n",
       "0  http://www.nytimes.com/2016/03/28/business/dea...   \n",
       "1  http://www.nytimes.com/2016/03/28/business/dea...   \n",
       "2  http://cointelegraph.com/news/bitcoin-future-w...   \n",
       "3  https://cloudplatform.googleblog.com/2016/03/G...   \n",
       "4  https://bitcoinmagazine.com/articles/ibm-wants...   \n",
       "\n",
       "                                               title  \\\n",
       "0  Ethereum, a Virtual Currency, Enables Transact...   \n",
       "1  Ethereum, a Virtual Currency, Enables Transact...   \n",
       "2  Bitcoin Future: When GBPcoin of Branson Wins O...   \n",
       "3                       Google Data Center 360° Tour   \n",
       "4  IBM Wants to \"Evolve the Internet\" With Blockc...   \n",
       "\n",
       "                                                text lang  \n",
       "0  All of this work is still very early. The firs...   en  \n",
       "1  All of this work is still very early. The firs...   en  \n",
       "2  The alarm clock wakes me at 8:00 with stream o...   en  \n",
       "3  We're excited to share the Google Data Center ...   en  \n",
       "4  The Aite Group projects the blockchain market ...   en  "
      ]
     },
     "execution_count": 2,
     "metadata": {},
     "output_type": "execute_result"
    }
   ],
   "source": [
    "articles_df = pd.read_csv('shared_articles.csv')\n",
    "interactions_df = pd.read_csv('users_interactions.csv')\n",
    "articles_df.drop(['authorUserAgent', 'authorRegion', 'authorCountry'], axis=1, inplace=True)\n",
    "interactions_df.drop(['userAgent', 'userRegion', 'userCountry'], axis=1, inplace=True)\n",
    "articles_df.head()"
   ]
  },
  {
   "cell_type": "code",
   "execution_count": 3,
   "metadata": {},
   "outputs": [
    {
     "data": {
      "text/plain": [
       "((3122, 10), 3057)"
      ]
     },
     "execution_count": 3,
     "metadata": {},
     "output_type": "execute_result"
    }
   ],
   "source": [
    "articles_df.shape,articles_df.contentId.nunique()"
   ]
  },
  {
   "cell_type": "code",
   "execution_count": 4,
   "metadata": {},
   "outputs": [
    {
     "data": {
      "text/html": [
       "<div>\n",
       "<style scoped>\n",
       "    .dataframe tbody tr th:only-of-type {\n",
       "        vertical-align: middle;\n",
       "    }\n",
       "\n",
       "    .dataframe tbody tr th {\n",
       "        vertical-align: top;\n",
       "    }\n",
       "\n",
       "    .dataframe thead th {\n",
       "        text-align: right;\n",
       "    }\n",
       "</style>\n",
       "<table border=\"1\" class=\"dataframe\">\n",
       "  <thead>\n",
       "    <tr style=\"text-align: right;\">\n",
       "      <th></th>\n",
       "      <th>timestamp</th>\n",
       "      <th>eventType</th>\n",
       "      <th>contentId</th>\n",
       "      <th>personId</th>\n",
       "      <th>sessionId</th>\n",
       "    </tr>\n",
       "  </thead>\n",
       "  <tbody>\n",
       "    <tr>\n",
       "      <th>0</th>\n",
       "      <td>1465413032</td>\n",
       "      <td>VIEW</td>\n",
       "      <td>-3499919498720038879</td>\n",
       "      <td>-8845298781299428018</td>\n",
       "      <td>1264196770339959068</td>\n",
       "    </tr>\n",
       "    <tr>\n",
       "      <th>1</th>\n",
       "      <td>1465412560</td>\n",
       "      <td>VIEW</td>\n",
       "      <td>8890720798209849691</td>\n",
       "      <td>-1032019229384696495</td>\n",
       "      <td>3621737643587579081</td>\n",
       "    </tr>\n",
       "    <tr>\n",
       "      <th>2</th>\n",
       "      <td>1465416190</td>\n",
       "      <td>VIEW</td>\n",
       "      <td>310515487419366995</td>\n",
       "      <td>-1130272294246983140</td>\n",
       "      <td>2631864456530402479</td>\n",
       "    </tr>\n",
       "    <tr>\n",
       "      <th>3</th>\n",
       "      <td>1465413895</td>\n",
       "      <td>FOLLOW</td>\n",
       "      <td>310515487419366995</td>\n",
       "      <td>344280948527967603</td>\n",
       "      <td>-3167637573980064150</td>\n",
       "    </tr>\n",
       "    <tr>\n",
       "      <th>4</th>\n",
       "      <td>1465412290</td>\n",
       "      <td>VIEW</td>\n",
       "      <td>-7820640624231356730</td>\n",
       "      <td>-445337111692715325</td>\n",
       "      <td>5611481178424124714</td>\n",
       "    </tr>\n",
       "  </tbody>\n",
       "</table>\n",
       "</div>"
      ],
      "text/plain": [
       "    timestamp eventType            contentId             personId  \\\n",
       "0  1465413032      VIEW -3499919498720038879 -8845298781299428018   \n",
       "1  1465412560      VIEW  8890720798209849691 -1032019229384696495   \n",
       "2  1465416190      VIEW   310515487419366995 -1130272294246983140   \n",
       "3  1465413895    FOLLOW   310515487419366995   344280948527967603   \n",
       "4  1465412290      VIEW -7820640624231356730  -445337111692715325   \n",
       "\n",
       "             sessionId  \n",
       "0  1264196770339959068  \n",
       "1  3621737643587579081  \n",
       "2  2631864456530402479  \n",
       "3 -3167637573980064150  \n",
       "4  5611481178424124714  "
      ]
     },
     "execution_count": 4,
     "metadata": {},
     "output_type": "execute_result"
    }
   ],
   "source": [
    "interactions_df.head()"
   ]
  },
  {
   "cell_type": "code",
   "execution_count": 5,
   "metadata": {},
   "outputs": [
    {
     "data": {
      "text/html": [
       "<div>\n",
       "<style scoped>\n",
       "    .dataframe tbody tr th:only-of-type {\n",
       "        vertical-align: middle;\n",
       "    }\n",
       "\n",
       "    .dataframe tbody tr th {\n",
       "        vertical-align: top;\n",
       "    }\n",
       "\n",
       "    .dataframe thead th {\n",
       "        text-align: right;\n",
       "    }\n",
       "</style>\n",
       "<table border=\"1\" class=\"dataframe\">\n",
       "  <thead>\n",
       "    <tr style=\"text-align: right;\">\n",
       "      <th></th>\n",
       "      <th>contentId</th>\n",
       "      <th>personId</th>\n",
       "      <th>eventType</th>\n",
       "      <th>title</th>\n",
       "    </tr>\n",
       "  </thead>\n",
       "  <tbody>\n",
       "    <tr>\n",
       "      <th>0</th>\n",
       "      <td>-3499919498720038879</td>\n",
       "      <td>-8845298781299428018</td>\n",
       "      <td>VIEW</td>\n",
       "      <td>Hiri wants to fix the workplace email problem</td>\n",
       "    </tr>\n",
       "    <tr>\n",
       "      <th>1</th>\n",
       "      <td>-3499919498720038879</td>\n",
       "      <td>-8845298781299428018</td>\n",
       "      <td>VIEW</td>\n",
       "      <td>Hiri wants to fix the workplace email problem</td>\n",
       "    </tr>\n",
       "    <tr>\n",
       "      <th>2</th>\n",
       "      <td>-3499919498720038879</td>\n",
       "      <td>-108842214936804958</td>\n",
       "      <td>VIEW</td>\n",
       "      <td>Hiri wants to fix the workplace email problem</td>\n",
       "    </tr>\n",
       "    <tr>\n",
       "      <th>3</th>\n",
       "      <td>-3499919498720038879</td>\n",
       "      <td>-1443636648652872475</td>\n",
       "      <td>VIEW</td>\n",
       "      <td>Hiri wants to fix the workplace email problem</td>\n",
       "    </tr>\n",
       "    <tr>\n",
       "      <th>4</th>\n",
       "      <td>-3499919498720038879</td>\n",
       "      <td>-1443636648652872475</td>\n",
       "      <td>VIEW</td>\n",
       "      <td>Hiri wants to fix the workplace email problem</td>\n",
       "    </tr>\n",
       "  </tbody>\n",
       "</table>\n",
       "</div>"
      ],
      "text/plain": [
       "             contentId             personId eventType  \\\n",
       "0 -3499919498720038879 -8845298781299428018      VIEW   \n",
       "1 -3499919498720038879 -8845298781299428018      VIEW   \n",
       "2 -3499919498720038879  -108842214936804958      VIEW   \n",
       "3 -3499919498720038879 -1443636648652872475      VIEW   \n",
       "4 -3499919498720038879 -1443636648652872475      VIEW   \n",
       "\n",
       "                                           title  \n",
       "0  Hiri wants to fix the workplace email problem  \n",
       "1  Hiri wants to fix the workplace email problem  \n",
       "2  Hiri wants to fix the workplace email problem  \n",
       "3  Hiri wants to fix the workplace email problem  \n",
       "4  Hiri wants to fix the workplace email problem  "
      ]
     },
     "execution_count": 5,
     "metadata": {},
     "output_type": "execute_result"
    }
   ],
   "source": [
    "articles_df = articles_df[articles_df['eventType'] == 'CONTENT SHARED']\n",
    "articles_df.drop('eventType', axis=1, inplace=True)\n",
    "df = pd.merge(interactions_df[['contentId','personId', 'eventType']], articles_df[['contentId', 'title']], how = 'inner', on = 'contentId')\n",
    "df.head()"
   ]
  },
  {
   "cell_type": "code",
   "execution_count": 6,
   "metadata": {},
   "outputs": [
    {
     "data": {
      "text/plain": [
       "VIEW               61043\n",
       "LIKE                5745\n",
       "BOOKMARK            2463\n",
       "COMMENT CREATED     1611\n",
       "FOLLOW              1407\n",
       "Name: eventType, dtype: int64"
      ]
     },
     "execution_count": 6,
     "metadata": {},
     "output_type": "execute_result"
    }
   ],
   "source": [
    "df.eventType.value_counts()"
   ]
  },
  {
   "cell_type": "code",
   "execution_count": 7,
   "metadata": {},
   "outputs": [
    {
     "data": {
      "text/html": [
       "<div>\n",
       "<style scoped>\n",
       "    .dataframe tbody tr th:only-of-type {\n",
       "        vertical-align: middle;\n",
       "    }\n",
       "\n",
       "    .dataframe tbody tr th {\n",
       "        vertical-align: top;\n",
       "    }\n",
       "\n",
       "    .dataframe thead th {\n",
       "        text-align: right;\n",
       "    }\n",
       "</style>\n",
       "<table border=\"1\" class=\"dataframe\">\n",
       "  <thead>\n",
       "    <tr style=\"text-align: right;\">\n",
       "      <th></th>\n",
       "      <th>contentId</th>\n",
       "      <th>personId</th>\n",
       "      <th>eventType</th>\n",
       "      <th>title</th>\n",
       "      <th>eventStrength</th>\n",
       "    </tr>\n",
       "  </thead>\n",
       "  <tbody>\n",
       "    <tr>\n",
       "      <th>7257</th>\n",
       "      <td>2857117417189640073</td>\n",
       "      <td>-926222002072636259</td>\n",
       "      <td>VIEW</td>\n",
       "      <td>Running GV sprints inside corporates - learn f...</td>\n",
       "      <td>1.0</td>\n",
       "    </tr>\n",
       "    <tr>\n",
       "      <th>59130</th>\n",
       "      <td>5949788789046720741</td>\n",
       "      <td>3609194402293569455</td>\n",
       "      <td>VIEW</td>\n",
       "      <td>How to use Docker to run ASP.NET Core apps on ...</td>\n",
       "      <td>1.0</td>\n",
       "    </tr>\n",
       "    <tr>\n",
       "      <th>16449</th>\n",
       "      <td>-1995591062742965408</td>\n",
       "      <td>3302556033962996625</td>\n",
       "      <td>COMMENT CREATED</td>\n",
       "      <td>Firebase Test Lab for Android</td>\n",
       "      <td>5.0</td>\n",
       "    </tr>\n",
       "    <tr>\n",
       "      <th>50559</th>\n",
       "      <td>957332268361319692</td>\n",
       "      <td>4313045637915476309</td>\n",
       "      <td>VIEW</td>\n",
       "      <td>Tasting Dagger 2 on Android</td>\n",
       "      <td>1.0</td>\n",
       "    </tr>\n",
       "    <tr>\n",
       "      <th>21639</th>\n",
       "      <td>-541666025693385823</td>\n",
       "      <td>-6944500707172804068</td>\n",
       "      <td>VIEW</td>\n",
       "      <td>Calm down: Google's use of Material Design on ...</td>\n",
       "      <td>1.0</td>\n",
       "    </tr>\n",
       "    <tr>\n",
       "      <th>22783</th>\n",
       "      <td>7168347449326627154</td>\n",
       "      <td>-9009798162809551896</td>\n",
       "      <td>VIEW</td>\n",
       "      <td>NYT: Google To Announce Alexa Competitor Calle...</td>\n",
       "      <td>1.0</td>\n",
       "    </tr>\n",
       "    <tr>\n",
       "      <th>30632</th>\n",
       "      <td>1306706744219888810</td>\n",
       "      <td>-1443636648652872475</td>\n",
       "      <td>VIEW</td>\n",
       "      <td>Debugging data transformations using Cloud Dat...</td>\n",
       "      <td>1.0</td>\n",
       "    </tr>\n",
       "    <tr>\n",
       "      <th>4926</th>\n",
       "      <td>1738052593226421681</td>\n",
       "      <td>-2165869757092084791</td>\n",
       "      <td>VIEW</td>\n",
       "      <td>Como resolver conflitos no ambiente corporativ...</td>\n",
       "      <td>1.0</td>\n",
       "    </tr>\n",
       "    <tr>\n",
       "      <th>55718</th>\n",
       "      <td>-7623502978685822577</td>\n",
       "      <td>670878778036881163</td>\n",
       "      <td>VIEW</td>\n",
       "      <td>Don't Start Big, Start a Little Snowball</td>\n",
       "      <td>1.0</td>\n",
       "    </tr>\n",
       "    <tr>\n",
       "      <th>58372</th>\n",
       "      <td>-5920475612630001479</td>\n",
       "      <td>2754566407772265068</td>\n",
       "      <td>VIEW</td>\n",
       "      <td>How it feels to learn Javascript in 2016</td>\n",
       "      <td>1.0</td>\n",
       "    </tr>\n",
       "  </tbody>\n",
       "</table>\n",
       "</div>"
      ],
      "text/plain": [
       "                 contentId             personId        eventType  \\\n",
       "7257   2857117417189640073  -926222002072636259             VIEW   \n",
       "59130  5949788789046720741  3609194402293569455             VIEW   \n",
       "16449 -1995591062742965408  3302556033962996625  COMMENT CREATED   \n",
       "50559   957332268361319692  4313045637915476309             VIEW   \n",
       "21639  -541666025693385823 -6944500707172804068             VIEW   \n",
       "22783  7168347449326627154 -9009798162809551896             VIEW   \n",
       "30632  1306706744219888810 -1443636648652872475             VIEW   \n",
       "4926   1738052593226421681 -2165869757092084791             VIEW   \n",
       "55718 -7623502978685822577   670878778036881163             VIEW   \n",
       "58372 -5920475612630001479  2754566407772265068             VIEW   \n",
       "\n",
       "                                                   title  eventStrength  \n",
       "7257   Running GV sprints inside corporates - learn f...            1.0  \n",
       "59130  How to use Docker to run ASP.NET Core apps on ...            1.0  \n",
       "16449                      Firebase Test Lab for Android            5.0  \n",
       "50559                        Tasting Dagger 2 on Android            1.0  \n",
       "21639  Calm down: Google's use of Material Design on ...            1.0  \n",
       "22783  NYT: Google To Announce Alexa Competitor Calle...            1.0  \n",
       "30632  Debugging data transformations using Cloud Dat...            1.0  \n",
       "4926   Como resolver conflitos no ambiente corporativ...            1.0  \n",
       "55718           Don't Start Big, Start a Little Snowball            1.0  \n",
       "58372           How it feels to learn Javascript in 2016            1.0  "
      ]
     },
     "execution_count": 7,
     "metadata": {},
     "output_type": "execute_result"
    }
   ],
   "source": [
    "event_type_strength = {\n",
    "   'VIEW': 1.0,\n",
    "   'LIKE': 2.0, \n",
    "   'BOOKMARK': 3.0, \n",
    "   'FOLLOW': 4.0,\n",
    "   'COMMENT CREATED': 5.0,  \n",
    "}\n",
    "\n",
    "df['eventStrength'] = df['eventType'].apply(lambda x: event_type_strength[x])\n",
    "df.sample(10)"
   ]
  },
  {
   "cell_type": "code",
   "execution_count": 8,
   "metadata": {},
   "outputs": [
    {
     "data": {
      "text/plain": [
       "((72269, 5), array([1., 2., 3., 4., 5.]))"
      ]
     },
     "execution_count": 8,
     "metadata": {},
     "output_type": "execute_result"
    }
   ],
   "source": [
    "df.shape,df.eventStrength.unique()"
   ]
  },
  {
   "cell_type": "code",
   "execution_count": 11,
   "metadata": {},
   "outputs": [
    {
     "data": {
      "text/html": [
       "<div>\n",
       "<style scoped>\n",
       "    .dataframe tbody tr th:only-of-type {\n",
       "        vertical-align: middle;\n",
       "    }\n",
       "\n",
       "    .dataframe tbody tr th {\n",
       "        vertical-align: top;\n",
       "    }\n",
       "\n",
       "    .dataframe thead th {\n",
       "        text-align: right;\n",
       "    }\n",
       "</style>\n",
       "<table border=\"1\" class=\"dataframe\">\n",
       "  <thead>\n",
       "    <tr style=\"text-align: right;\">\n",
       "      <th></th>\n",
       "      <th>personId</th>\n",
       "      <th>contentId</th>\n",
       "      <th>title</th>\n",
       "      <th>eventStrength</th>\n",
       "    </tr>\n",
       "  </thead>\n",
       "  <tbody>\n",
       "    <tr>\n",
       "      <th>0</th>\n",
       "      <td>-9223121837663643404</td>\n",
       "      <td>-8949113594875411859</td>\n",
       "      <td>No Brasil, '25% dos celulares ainda são 'Burro...</td>\n",
       "      <td>1.0</td>\n",
       "    </tr>\n",
       "    <tr>\n",
       "      <th>1</th>\n",
       "      <td>-9223121837663643404</td>\n",
       "      <td>-8377626164558006982</td>\n",
       "      <td>Bad Writing Is Destroying Your Company's Produ...</td>\n",
       "      <td>1.0</td>\n",
       "    </tr>\n",
       "    <tr>\n",
       "      <th>2</th>\n",
       "      <td>-9223121837663643404</td>\n",
       "      <td>-8208801367848627943</td>\n",
       "      <td>Ray Kurzweil: The world isn't getting worse - ...</td>\n",
       "      <td>1.0</td>\n",
       "    </tr>\n",
       "    <tr>\n",
       "      <th>3</th>\n",
       "      <td>-9223121837663643404</td>\n",
       "      <td>-8187220755213888616</td>\n",
       "      <td>Organizing for digital acceleration: Making a ...</td>\n",
       "      <td>1.0</td>\n",
       "    </tr>\n",
       "    <tr>\n",
       "      <th>4</th>\n",
       "      <td>-9223121837663643404</td>\n",
       "      <td>-7423191370472335463</td>\n",
       "      <td>Espresso Intents: não é magia, é tecnologia! -...</td>\n",
       "      <td>8.0</td>\n",
       "    </tr>\n",
       "    <tr>\n",
       "      <th>...</th>\n",
       "      <td>...</td>\n",
       "      <td>...</td>\n",
       "      <td>...</td>\n",
       "      <td>...</td>\n",
       "    </tr>\n",
       "    <tr>\n",
       "      <th>40677</th>\n",
       "      <td>9210530975708218054</td>\n",
       "      <td>8477804012624580461</td>\n",
       "      <td>Gartner: em 2020 não haverá mais aplicativos</td>\n",
       "      <td>10.0</td>\n",
       "    </tr>\n",
       "    <tr>\n",
       "      <th>40678</th>\n",
       "      <td>9210530975708218054</td>\n",
       "      <td>8526042588044002101</td>\n",
       "      <td>Cloud Native Part 1: Definition</td>\n",
       "      <td>1.0</td>\n",
       "    </tr>\n",
       "    <tr>\n",
       "      <th>40679</th>\n",
       "      <td>9210530975708218054</td>\n",
       "      <td>8856169137131817223</td>\n",
       "      <td>Para inovar é preciso mais do que boas ideias ...</td>\n",
       "      <td>1.0</td>\n",
       "    </tr>\n",
       "    <tr>\n",
       "      <th>40680</th>\n",
       "      <td>9210530975708218054</td>\n",
       "      <td>8869347744613364434</td>\n",
       "      <td>Java Garbage Collection Essencial</td>\n",
       "      <td>1.0</td>\n",
       "    </tr>\n",
       "    <tr>\n",
       "      <th>40681</th>\n",
       "      <td>9210530975708218054</td>\n",
       "      <td>9209886322932807692</td>\n",
       "      <td>Web Share API</td>\n",
       "      <td>1.0</td>\n",
       "    </tr>\n",
       "  </tbody>\n",
       "</table>\n",
       "<p>40682 rows × 4 columns</p>\n",
       "</div>"
      ],
      "text/plain": [
       "                  personId            contentId  \\\n",
       "0     -9223121837663643404 -8949113594875411859   \n",
       "1     -9223121837663643404 -8377626164558006982   \n",
       "2     -9223121837663643404 -8208801367848627943   \n",
       "3     -9223121837663643404 -8187220755213888616   \n",
       "4     -9223121837663643404 -7423191370472335463   \n",
       "...                    ...                  ...   \n",
       "40677  9210530975708218054  8477804012624580461   \n",
       "40678  9210530975708218054  8526042588044002101   \n",
       "40679  9210530975708218054  8856169137131817223   \n",
       "40680  9210530975708218054  8869347744613364434   \n",
       "40681  9210530975708218054  9209886322932807692   \n",
       "\n",
       "                                                   title  eventStrength  \n",
       "0      No Brasil, '25% dos celulares ainda são 'Burro...            1.0  \n",
       "1      Bad Writing Is Destroying Your Company's Produ...            1.0  \n",
       "2      Ray Kurzweil: The world isn't getting worse - ...            1.0  \n",
       "3      Organizing for digital acceleration: Making a ...            1.0  \n",
       "4      Espresso Intents: não é magia, é tecnologia! -...            8.0  \n",
       "...                                                  ...            ...  \n",
       "40677       Gartner: em 2020 não haverá mais aplicativos           10.0  \n",
       "40678                    Cloud Native Part 1: Definition            1.0  \n",
       "40679  Para inovar é preciso mais do que boas ideias ...            1.0  \n",
       "40680                  Java Garbage Collection Essencial            1.0  \n",
       "40681                                      Web Share API            1.0  \n",
       "\n",
       "[40682 rows x 4 columns]"
      ]
     },
     "execution_count": 11,
     "metadata": {},
     "output_type": "execute_result"
    }
   ],
   "source": [
    "df.groupby(['personId', 'contentId', 'title']).sum().reset_index()"
   ]
  },
  {
   "cell_type": "code",
   "execution_count": 14,
   "metadata": {},
   "outputs": [
    {
     "data": {
      "text/html": [
       "<div>\n",
       "<style scoped>\n",
       "    .dataframe tbody tr th:only-of-type {\n",
       "        vertical-align: middle;\n",
       "    }\n",
       "\n",
       "    .dataframe tbody tr th {\n",
       "        vertical-align: top;\n",
       "    }\n",
       "\n",
       "    .dataframe thead th {\n",
       "        text-align: right;\n",
       "    }\n",
       "</style>\n",
       "<table border=\"1\" class=\"dataframe\">\n",
       "  <thead>\n",
       "    <tr style=\"text-align: right;\">\n",
       "      <th></th>\n",
       "      <th>contentId</th>\n",
       "      <th>personId</th>\n",
       "      <th>eventType</th>\n",
       "      <th>title</th>\n",
       "      <th>eventStrength</th>\n",
       "    </tr>\n",
       "  </thead>\n",
       "  <tbody>\n",
       "    <tr>\n",
       "      <th>63204</th>\n",
       "      <td>-7423191370472335463</td>\n",
       "      <td>-9223121837663643404</td>\n",
       "      <td>VIEW</td>\n",
       "      <td>Espresso Intents: não é magia, é tecnologia! -...</td>\n",
       "      <td>1.0</td>\n",
       "    </tr>\n",
       "    <tr>\n",
       "      <th>63225</th>\n",
       "      <td>-7423191370472335463</td>\n",
       "      <td>-9223121837663643404</td>\n",
       "      <td>VIEW</td>\n",
       "      <td>Espresso Intents: não é magia, é tecnologia! -...</td>\n",
       "      <td>1.0</td>\n",
       "    </tr>\n",
       "    <tr>\n",
       "      <th>63239</th>\n",
       "      <td>-7423191370472335463</td>\n",
       "      <td>-9223121837663643404</td>\n",
       "      <td>VIEW</td>\n",
       "      <td>Espresso Intents: não é magia, é tecnologia! -...</td>\n",
       "      <td>1.0</td>\n",
       "    </tr>\n",
       "    <tr>\n",
       "      <th>63240</th>\n",
       "      <td>-7423191370472335463</td>\n",
       "      <td>-9223121837663643404</td>\n",
       "      <td>VIEW</td>\n",
       "      <td>Espresso Intents: não é magia, é tecnologia! -...</td>\n",
       "      <td>1.0</td>\n",
       "    </tr>\n",
       "    <tr>\n",
       "      <th>63241</th>\n",
       "      <td>-7423191370472335463</td>\n",
       "      <td>-9223121837663643404</td>\n",
       "      <td>VIEW</td>\n",
       "      <td>Espresso Intents: não é magia, é tecnologia! -...</td>\n",
       "      <td>1.0</td>\n",
       "    </tr>\n",
       "    <tr>\n",
       "      <th>63244</th>\n",
       "      <td>-7423191370472335463</td>\n",
       "      <td>-9223121837663643404</td>\n",
       "      <td>VIEW</td>\n",
       "      <td>Espresso Intents: não é magia, é tecnologia! -...</td>\n",
       "      <td>1.0</td>\n",
       "    </tr>\n",
       "    <tr>\n",
       "      <th>63246</th>\n",
       "      <td>-7423191370472335463</td>\n",
       "      <td>-9223121837663643404</td>\n",
       "      <td>VIEW</td>\n",
       "      <td>Espresso Intents: não é magia, é tecnologia! -...</td>\n",
       "      <td>1.0</td>\n",
       "    </tr>\n",
       "    <tr>\n",
       "      <th>63257</th>\n",
       "      <td>-7423191370472335463</td>\n",
       "      <td>-9223121837663643404</td>\n",
       "      <td>VIEW</td>\n",
       "      <td>Espresso Intents: não é magia, é tecnologia! -...</td>\n",
       "      <td>1.0</td>\n",
       "    </tr>\n",
       "  </tbody>\n",
       "</table>\n",
       "</div>"
      ],
      "text/plain": [
       "                 contentId             personId eventType  \\\n",
       "63204 -7423191370472335463 -9223121837663643404      VIEW   \n",
       "63225 -7423191370472335463 -9223121837663643404      VIEW   \n",
       "63239 -7423191370472335463 -9223121837663643404      VIEW   \n",
       "63240 -7423191370472335463 -9223121837663643404      VIEW   \n",
       "63241 -7423191370472335463 -9223121837663643404      VIEW   \n",
       "63244 -7423191370472335463 -9223121837663643404      VIEW   \n",
       "63246 -7423191370472335463 -9223121837663643404      VIEW   \n",
       "63257 -7423191370472335463 -9223121837663643404      VIEW   \n",
       "\n",
       "                                                   title  eventStrength  \n",
       "63204  Espresso Intents: não é magia, é tecnologia! -...            1.0  \n",
       "63225  Espresso Intents: não é magia, é tecnologia! -...            1.0  \n",
       "63239  Espresso Intents: não é magia, é tecnologia! -...            1.0  \n",
       "63240  Espresso Intents: não é magia, é tecnologia! -...            1.0  \n",
       "63241  Espresso Intents: não é magia, é tecnologia! -...            1.0  \n",
       "63244  Espresso Intents: não é magia, é tecnologia! -...            1.0  \n",
       "63246  Espresso Intents: não é magia, é tecnologia! -...            1.0  \n",
       "63257  Espresso Intents: não é magia, é tecnologia! -...            1.0  "
      ]
     },
     "execution_count": 14,
     "metadata": {},
     "output_type": "execute_result"
    }
   ],
   "source": [
    "df[(df.personId==-9223121837663643404) & (df.contentId==-7423191370472335463)]"
   ]
  },
  {
   "cell_type": "code",
   "execution_count": 15,
   "metadata": {},
   "outputs": [
    {
     "data": {
      "text/html": [
       "<div>\n",
       "<style scoped>\n",
       "    .dataframe tbody tr th:only-of-type {\n",
       "        vertical-align: middle;\n",
       "    }\n",
       "\n",
       "    .dataframe tbody tr th {\n",
       "        vertical-align: top;\n",
       "    }\n",
       "\n",
       "    .dataframe thead th {\n",
       "        text-align: right;\n",
       "    }\n",
       "</style>\n",
       "<table border=\"1\" class=\"dataframe\">\n",
       "  <thead>\n",
       "    <tr style=\"text-align: right;\">\n",
       "      <th></th>\n",
       "      <th>personId</th>\n",
       "      <th>contentId</th>\n",
       "      <th>title</th>\n",
       "      <th>eventStrength</th>\n",
       "    </tr>\n",
       "  </thead>\n",
       "  <tbody>\n",
       "    <tr>\n",
       "      <th>1441</th>\n",
       "      <td>-8823950498314351783</td>\n",
       "      <td>231281690254211527</td>\n",
       "      <td>Saiba como a Cisco está trabalhando com IoT e ...</td>\n",
       "      <td>1.0</td>\n",
       "    </tr>\n",
       "    <tr>\n",
       "      <th>27512</th>\n",
       "      <td>3106760029136205156</td>\n",
       "      <td>-8954346068661072425</td>\n",
       "      <td>The technology behind preview photos</td>\n",
       "      <td>1.0</td>\n",
       "    </tr>\n",
       "    <tr>\n",
       "      <th>12383</th>\n",
       "      <td>-2979881261169775358</td>\n",
       "      <td>-3348652277274905234</td>\n",
       "      <td>Google usa aprendizado de máquina para melhora...</td>\n",
       "      <td>1.0</td>\n",
       "    </tr>\n",
       "    <tr>\n",
       "      <th>27247</th>\n",
       "      <td>2966898457830124144</td>\n",
       "      <td>4313871021753084020</td>\n",
       "      <td>Startups matam. E suas vítimas são as empresas...</td>\n",
       "      <td>1.0</td>\n",
       "    </tr>\n",
       "    <tr>\n",
       "      <th>34092</th>\n",
       "      <td>5621833459783231486</td>\n",
       "      <td>-5658245291907121574</td>\n",
       "      <td>Machine Learning and the VP Debate</td>\n",
       "      <td>1.0</td>\n",
       "    </tr>\n",
       "    <tr>\n",
       "      <th>14947</th>\n",
       "      <td>-1863544689523892600</td>\n",
       "      <td>-4412848927260591416</td>\n",
       "      <td>New Africa Trend Briefing from TrendWatching |...</td>\n",
       "      <td>1.0</td>\n",
       "    </tr>\n",
       "    <tr>\n",
       "      <th>11825</th>\n",
       "      <td>-3275942195366018617</td>\n",
       "      <td>2760335717049716507</td>\n",
       "      <td>Razorfish, US digital revenues, drag down Publ...</td>\n",
       "      <td>1.0</td>\n",
       "    </tr>\n",
       "    <tr>\n",
       "      <th>34388</th>\n",
       "      <td>5663484293775216130</td>\n",
       "      <td>5445999759138709405</td>\n",
       "      <td>Bradesco lança serviço inédito para estimular ...</td>\n",
       "      <td>1.0</td>\n",
       "    </tr>\n",
       "    <tr>\n",
       "      <th>37243</th>\n",
       "      <td>7527226129639571966</td>\n",
       "      <td>-2948321821574578861</td>\n",
       "      <td>Quando usar paginação e quando usar scroll inf...</td>\n",
       "      <td>1.0</td>\n",
       "    </tr>\n",
       "    <tr>\n",
       "      <th>30053</th>\n",
       "      <td>3649923015832992113</td>\n",
       "      <td>-2097075598039554565</td>\n",
       "      <td>The Languages, Frameworks and Tools You Should...</td>\n",
       "      <td>3.0</td>\n",
       "    </tr>\n",
       "  </tbody>\n",
       "</table>\n",
       "</div>"
      ],
      "text/plain": [
       "                  personId            contentId  \\\n",
       "1441  -8823950498314351783   231281690254211527   \n",
       "27512  3106760029136205156 -8954346068661072425   \n",
       "12383 -2979881261169775358 -3348652277274905234   \n",
       "27247  2966898457830124144  4313871021753084020   \n",
       "34092  5621833459783231486 -5658245291907121574   \n",
       "14947 -1863544689523892600 -4412848927260591416   \n",
       "11825 -3275942195366018617  2760335717049716507   \n",
       "34388  5663484293775216130  5445999759138709405   \n",
       "37243  7527226129639571966 -2948321821574578861   \n",
       "30053  3649923015832992113 -2097075598039554565   \n",
       "\n",
       "                                                   title  eventStrength  \n",
       "1441   Saiba como a Cisco está trabalhando com IoT e ...            1.0  \n",
       "27512               The technology behind preview photos            1.0  \n",
       "12383  Google usa aprendizado de máquina para melhora...            1.0  \n",
       "27247  Startups matam. E suas vítimas são as empresas...            1.0  \n",
       "34092                 Machine Learning and the VP Debate            1.0  \n",
       "14947  New Africa Trend Briefing from TrendWatching |...            1.0  \n",
       "11825  Razorfish, US digital revenues, drag down Publ...            1.0  \n",
       "34388  Bradesco lança serviço inédito para estimular ...            1.0  \n",
       "37243  Quando usar paginação e quando usar scroll inf...            1.0  \n",
       "30053  The Languages, Frameworks and Tools You Should...            3.0  "
      ]
     },
     "execution_count": 15,
     "metadata": {},
     "output_type": "execute_result"
    }
   ],
   "source": [
    "df = df.drop_duplicates()\n",
    "grouped_df = df.groupby(['personId', 'contentId', 'title']).sum().reset_index()\n",
    "grouped_df.sample(10)"
   ]
  },
  {
   "cell_type": "code",
   "execution_count": 16,
   "metadata": {},
   "outputs": [
    {
     "data": {
      "text/plain": [
       "((50910, 5),\n",
       " array([ 1.,  3.,  6., 10.,  4.,  8.,  5., 12.,  7., 15.,  2.,  9., 11.,\n",
       "        13., 14.]))"
      ]
     },
     "execution_count": 16,
     "metadata": {},
     "output_type": "execute_result"
    }
   ],
   "source": [
    "df.shape,grouped_df.eventStrength.unique()"
   ]
  },
  {
   "cell_type": "code",
   "execution_count": 51,
   "metadata": {},
   "outputs": [
    {
     "data": {
      "text/html": [
       "<div>\n",
       "<style scoped>\n",
       "    .dataframe tbody tr th:only-of-type {\n",
       "        vertical-align: middle;\n",
       "    }\n",
       "\n",
       "    .dataframe tbody tr th {\n",
       "        vertical-align: top;\n",
       "    }\n",
       "\n",
       "    .dataframe thead th {\n",
       "        text-align: right;\n",
       "    }\n",
       "</style>\n",
       "<table border=\"1\" class=\"dataframe\">\n",
       "  <thead>\n",
       "    <tr style=\"text-align: right;\">\n",
       "      <th></th>\n",
       "      <th>personId</th>\n",
       "      <th>contentId</th>\n",
       "      <th>title</th>\n",
       "      <th>eventStrength</th>\n",
       "      <th>person_id</th>\n",
       "      <th>content_id</th>\n",
       "    </tr>\n",
       "  </thead>\n",
       "  <tbody>\n",
       "    <tr>\n",
       "      <th>31684</th>\n",
       "      <td>4209517478660372522</td>\n",
       "      <td>5849490334294127641</td>\n",
       "      <td>gotwarlost/istanbul</td>\n",
       "      <td>1.0</td>\n",
       "      <td>1383</td>\n",
       "      <td>2426</td>\n",
       "    </tr>\n",
       "    <tr>\n",
       "      <th>274</th>\n",
       "      <td>-9016528795238256703</td>\n",
       "      <td>-7126520323752764957</td>\n",
       "      <td>How Google is Remaking Itself as a \"Machine Le...</td>\n",
       "      <td>1.0</td>\n",
       "      <td>17</td>\n",
       "      <td>351</td>\n",
       "    </tr>\n",
       "    <tr>\n",
       "      <th>29323</th>\n",
       "      <td>3609194402293569455</td>\n",
       "      <td>2834072258350675251</td>\n",
       "      <td>Plano Nacional de IoT chega em março com parce...</td>\n",
       "      <td>1.0</td>\n",
       "      <td>1319</td>\n",
       "      <td>1925</td>\n",
       "    </tr>\n",
       "    <tr>\n",
       "      <th>1378</th>\n",
       "      <td>-8845298781299428018</td>\n",
       "      <td>7024819429467163565</td>\n",
       "      <td>Chrome extension brings Medium's best feature ...</td>\n",
       "      <td>3.0</td>\n",
       "      <td>33</td>\n",
       "      <td>2619</td>\n",
       "    </tr>\n",
       "    <tr>\n",
       "      <th>38095</th>\n",
       "      <td>7911347399014555575</td>\n",
       "      <td>1469580151036142903</td>\n",
       "      <td>Don't document your code. Code your documentat...</td>\n",
       "      <td>1.0</td>\n",
       "      <td>1752</td>\n",
       "      <td>1710</td>\n",
       "    </tr>\n",
       "    <tr>\n",
       "      <th>9010</th>\n",
       "      <td>-4447090897576014728</td>\n",
       "      <td>-614408900691920886</td>\n",
       "      <td>X-Men | São Paulo vai receber exposição sobre ...</td>\n",
       "      <td>1.0</td>\n",
       "      <td>492</td>\n",
       "      <td>1376</td>\n",
       "    </tr>\n",
       "    <tr>\n",
       "      <th>37377</th>\n",
       "      <td>7580644064067188685</td>\n",
       "      <td>6540624159201421051</td>\n",
       "      <td>Bradesco vai lançar novo banco digital: o Next.</td>\n",
       "      <td>1.0</td>\n",
       "      <td>1719</td>\n",
       "      <td>2533</td>\n",
       "    </tr>\n",
       "    <tr>\n",
       "      <th>19368</th>\n",
       "      <td>-445337111692715325</td>\n",
       "      <td>-4336355219396419841</td>\n",
       "      <td>Game Of Thrones e suas lições de liderança | E...</td>\n",
       "      <td>1.0</td>\n",
       "      <td>887</td>\n",
       "      <td>793</td>\n",
       "    </tr>\n",
       "    <tr>\n",
       "      <th>31858</th>\n",
       "      <td>4254153380739593270</td>\n",
       "      <td>-7518373517401484139</td>\n",
       "      <td>My favorite people and resources to learn Andr...</td>\n",
       "      <td>1.0</td>\n",
       "      <td>1390</td>\n",
       "      <td>297</td>\n",
       "    </tr>\n",
       "    <tr>\n",
       "      <th>9626</th>\n",
       "      <td>-4154712816784766009</td>\n",
       "      <td>-133139342397538859</td>\n",
       "      <td>Novo workaholic trabalha, pratica esportes e t...</td>\n",
       "      <td>1.0</td>\n",
       "      <td>521</td>\n",
       "      <td>1449</td>\n",
       "    </tr>\n",
       "  </tbody>\n",
       "</table>\n",
       "</div>"
      ],
      "text/plain": [
       "                  personId            contentId  \\\n",
       "31684  4209517478660372522  5849490334294127641   \n",
       "274   -9016528795238256703 -7126520323752764957   \n",
       "29323  3609194402293569455  2834072258350675251   \n",
       "1378  -8845298781299428018  7024819429467163565   \n",
       "38095  7911347399014555575  1469580151036142903   \n",
       "9010  -4447090897576014728  -614408900691920886   \n",
       "37377  7580644064067188685  6540624159201421051   \n",
       "19368  -445337111692715325 -4336355219396419841   \n",
       "31858  4254153380739593270 -7518373517401484139   \n",
       "9626  -4154712816784766009  -133139342397538859   \n",
       "\n",
       "                                                   title  eventStrength  \\\n",
       "31684                                gotwarlost/istanbul            1.0   \n",
       "274    How Google is Remaking Itself as a \"Machine Le...            1.0   \n",
       "29323  Plano Nacional de IoT chega em março com parce...            1.0   \n",
       "1378   Chrome extension brings Medium's best feature ...            3.0   \n",
       "38095  Don't document your code. Code your documentat...            1.0   \n",
       "9010   X-Men | São Paulo vai receber exposição sobre ...            1.0   \n",
       "37377    Bradesco vai lançar novo banco digital: o Next.            1.0   \n",
       "19368  Game Of Thrones e suas lições de liderança | E...            1.0   \n",
       "31858  My favorite people and resources to learn Andr...            1.0   \n",
       "9626   Novo workaholic trabalha, pratica esportes e t...            1.0   \n",
       "\n",
       "       person_id  content_id  \n",
       "31684       1383        2426  \n",
       "274           17         351  \n",
       "29323       1319        1925  \n",
       "1378          33        2619  \n",
       "38095       1752        1710  \n",
       "9010         492        1376  \n",
       "37377       1719        2533  \n",
       "19368        887         793  \n",
       "31858       1390         297  \n",
       "9626         521        1449  "
      ]
     },
     "execution_count": 51,
     "metadata": {},
     "output_type": "execute_result"
    }
   ],
   "source": [
    "grouped_df['title'] = grouped_df['title'].astype(\"category\")\n",
    "grouped_df['personId'] = grouped_df['personId'].astype(\"category\")\n",
    "grouped_df['contentId'] = grouped_df['contentId'].astype(\"category\")\n",
    "grouped_df['person_id'] = grouped_df['personId'].cat.codes\n",
    "grouped_df['content_id'] = grouped_df['contentId'].cat.codes\n",
    "grouped_df.sample(10)"
   ]
  },
  {
   "cell_type": "code",
   "execution_count": 64,
   "metadata": {},
   "outputs": [
    {
     "data": {
      "text/plain": [
       "(40682, 40682)"
      ]
     },
     "execution_count": 64,
     "metadata": {},
     "output_type": "execute_result"
    }
   ],
   "source": [
    "len(sparse_content_person.data),len(grouped_df.eventStrength)"
   ]
  },
  {
   "cell_type": "code",
   "execution_count": 66,
   "metadata": {},
   "outputs": [
    {
     "data": {
      "text/plain": [
       "(1895, 1895)"
      ]
     },
     "execution_count": 66,
     "metadata": {},
     "output_type": "execute_result"
    }
   ],
   "source": [
    "grouped_df.person_id.nunique(),grouped_df.personId.nunique()"
   ]
  },
  {
   "cell_type": "code",
   "execution_count": 61,
   "metadata": {},
   "outputs": [
    {
     "name": "stdout",
     "output_type": "stream",
     "text": [
      "(2979, 1895)\n",
      "(1895, 2979)\n"
     ]
    }
   ],
   "source": [
    "sparse_content_person = sparse.csr_matrix((grouped_df['eventStrength'].astype(float), (grouped_df['content_id'], grouped_df['person_id'])))\n",
    "sparse_person_content = sparse.csr_matrix((grouped_df['eventStrength'].astype(float), (grouped_df['person_id'], grouped_df['content_id'])))\n",
    " \n",
    "print(sparse_content_person.shape)\n",
    "print(sparse_person_content.shape)"
   ]
  },
  {
   "cell_type": "code",
   "execution_count": 13,
   "metadata": {},
   "outputs": [
    {
     "data": {
      "text/plain": [
       "(0    1.0\n",
       " 1    1.0\n",
       " 2    1.0\n",
       " 3    1.0\n",
       " 4    1.0\n",
       " Name: eventStrength, dtype: float64, 0     65\n",
       " 1    159\n",
       " 2    187\n",
       " 3    195\n",
       " 4    313\n",
       " Name: content_id, dtype: int16, 0    0\n",
       " 1    0\n",
       " 2    0\n",
       " 3    0\n",
       " 4    0\n",
       " Name: person_id, dtype: int16)"
      ]
     },
     "execution_count": 13,
     "metadata": {},
     "output_type": "execute_result"
    }
   ],
   "source": [
    "grouped_df['eventStrength'].head(),grouped_df['content_id'].head(),grouped_df['person_id'].head()"
   ]
  },
  {
   "cell_type": "code",
   "execution_count": 14,
   "metadata": {},
   "outputs": [],
   "source": [
    "# np.save('sparse_content_person',sparse_content_person)\n",
    "# np.save('sparse_person_content',sparse_person_content)\n",
    "# data = np.load('sparse_content_person.npy',allow_pickle=True)"
   ]
  },
  {
   "cell_type": "code",
   "execution_count": 15,
   "metadata": {},
   "outputs": [],
   "source": [
    "import pickle"
   ]
  },
  {
   "cell_type": "code",
   "execution_count": 16,
   "metadata": {},
   "outputs": [],
   "source": [
    "with open('sparse_content_person.pickle','wb') as f:\n",
    "    pickle.dump(sparse_content_person,f)\n",
    "with open('sparse_person_content.pickle','wb') as f:\n",
    "    pickle.dump(sparse_person_content,f)"
   ]
  },
  {
   "cell_type": "code",
   "execution_count": 17,
   "metadata": {},
   "outputs": [],
   "source": [
    "d = pickle.load(open('d.pickle','rb'))"
   ]
  },
  {
   "cell_type": "code",
   "execution_count": 24,
   "metadata": {},
   "outputs": [],
   "source": [
    "pct_test=0.2\n",
    "training_set = sparse_content_person.copy()\n",
    "nonzero_inds = training_set.nonzero()\n",
    "nonzero_pairs = list(zip(nonzero_inds[0], nonzero_inds[1]))\n",
    "num_samples = int(np.ceil(pct_test*len(nonzero_pairs)))\n",
    "samples = random.sample(nonzero_pairs, num_samples)\n",
    "content_inds = [index[0] for index in samples]\n",
    "person_inds = [index[1] for index in samples]\n",
    "training_set[content_inds, person_inds] = 0\n",
    "training_set.eliminate_zeros()"
   ]
  },
  {
   "cell_type": "code",
   "execution_count": 25,
   "metadata": {},
   "outputs": [
    {
     "data": {
      "text/plain": [
       "(2979, 1895)"
      ]
     },
     "execution_count": 25,
     "metadata": {},
     "output_type": "execute_result"
    }
   ],
   "source": [
    "training_set.shape"
   ]
  },
  {
   "cell_type": "code",
   "execution_count": 39,
   "metadata": {},
   "outputs": [
    {
     "data": {
      "text/plain": [
       "array([ 1.,  2.,  3.,  4.,  5.,  6.,  7.,  8.,  9., 10., 11., 12., 13.,\n",
       "       14., 15.])"
      ]
     },
     "execution_count": 39,
     "metadata": {},
     "output_type": "execute_result"
    }
   ],
   "source": [
    "np.unique(sparse_content_person.data)"
   ]
  },
  {
   "cell_type": "code",
   "execution_count": 29,
   "metadata": {},
   "outputs": [
    {
     "data": {
      "text/plain": [
       "(32545, 40682)"
      ]
     },
     "execution_count": 29,
     "metadata": {},
     "output_type": "execute_result"
    }
   ],
   "source": [
    "len(training_set.data),len(sparse_content_person.data)"
   ]
  },
  {
   "cell_type": "code",
   "execution_count": 36,
   "metadata": {},
   "outputs": [
    {
     "name": "stdout",
     "output_type": "stream",
     "text": [
      "  (0, 0)\t1\n",
      "  (0, 1)\t1\n",
      "  (1, 0)\t1\n",
      "  (1, 1)\t1\n",
      "(4,)\n",
      "  (0, 0)\t0\n",
      "  (0, 1)\t1\n",
      "  (1, 0)\t1\n",
      "  (1, 1)\t0\n",
      "(4,)\n"
     ]
    }
   ],
   "source": [
    "import numpy as np\n",
    "from scipy.sparse import csr_matrix\n",
    "M = csr_matrix(np.ones([2, 2],dtype=np.int32))\n",
    "print(M)\n",
    "print(M.data.shape)\n",
    "for i in range(np.shape(M)[0]):\n",
    "    for j in range(np.shape(M)[1]):\n",
    "        if i==j:\n",
    "            M[i,j] = 0\n",
    "print(M)\n",
    "print(M.data.shape)"
   ]
  },
  {
   "cell_type": "code",
   "execution_count": 37,
   "metadata": {},
   "outputs": [
    {
     "data": {
      "text/plain": [
       "<2x2 sparse matrix of type '<class 'numpy.intc'>'\n",
       "\twith 4 stored elements in Compressed Sparse Row format>"
      ]
     },
     "execution_count": 37,
     "metadata": {},
     "output_type": "execute_result"
    }
   ],
   "source": [
    "M"
   ]
  },
  {
   "cell_type": "code",
   "execution_count": 32,
   "metadata": {},
   "outputs": [
    {
     "name": "stdout",
     "output_type": "stream",
     "text": [
      "[0 1 1 0]\n"
     ]
    }
   ],
   "source": [
    "print(M.data)"
   ]
  },
  {
   "cell_type": "code",
   "execution_count": 33,
   "metadata": {},
   "outputs": [],
   "source": [
    "M.eliminate_zeros()"
   ]
  },
  {
   "cell_type": "code",
   "execution_count": 34,
   "metadata": {},
   "outputs": [
    {
     "data": {
      "text/plain": [
       "array([1, 1], dtype=int32)"
      ]
     },
     "execution_count": 34,
     "metadata": {},
     "output_type": "execute_result"
    }
   ],
   "source": [
    "M.data"
   ]
  },
  {
   "cell_type": "code",
   "execution_count": 35,
   "metadata": {},
   "outputs": [
    {
     "data": {
      "text/plain": [
       "<2x2 sparse matrix of type '<class 'numpy.intc'>'\n",
       "\twith 2 stored elements in Compressed Sparse Row format>"
      ]
     },
     "execution_count": 35,
     "metadata": {},
     "output_type": "execute_result"
    }
   ],
   "source": [
    "M"
   ]
  },
  {
   "cell_type": "code",
   "execution_count": null,
   "metadata": {},
   "outputs": [],
   "source": []
  }
 ],
 "metadata": {
  "kernelspec": {
   "display_name": "Python 3",
   "language": "python",
   "name": "python3"
  },
  "language_info": {
   "codemirror_mode": {
    "name": "ipython",
    "version": 3
   },
   "file_extension": ".py",
   "mimetype": "text/x-python",
   "name": "python",
   "nbconvert_exporter": "python",
   "pygments_lexer": "ipython3",
   "version": "3.6.5"
  }
 },
 "nbformat": 4,
 "nbformat_minor": 2
}
